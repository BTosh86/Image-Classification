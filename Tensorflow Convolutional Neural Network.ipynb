{
 "cells": [
  {
   "cell_type": "markdown",
   "metadata": {},
   "source": [
    "# Summary"
   ]
  },
  {
   "cell_type": "markdown",
   "metadata": {},
   "source": [
    "An image classification project was conducted using images of cats and dogs. A Convolutional Neural Network (CNN) utilizing Keras/Tensorflow was trained and tested on a total of 10,000 images.\n",
    "\n",
    "The CNN reached an accuracy of 80% on the validation set"
   ]
  },
  {
   "cell_type": "markdown",
   "metadata": {},
   "source": [
    "# Data preprocessing"
   ]
  },
  {
   "cell_type": "code",
   "execution_count": 1,
   "metadata": {
    "executionInfo": {
     "elapsed": 2311,
     "status": "ok",
     "timestamp": 1612560089655,
     "user": {
      "displayName": "Tosh Edrisi",
      "photoUrl": "https://lh3.googleusercontent.com/a-/AOh14GjHne6OJWv-zUV9Rl05uopmkw5h1jzzLLOeUPDxVg=s64",
      "userId": "06049327166490884150"
     },
     "user_tz": 360
    },
    "id": "CCJFPZEhEWMo"
   },
   "outputs": [],
   "source": [
    "#Import in the libraries\n",
    "import tensorflow as tf\n",
    "from keras.preprocessing.image import ImageDataGenerator\n",
    "import matplotlib.pyplot as plt\n",
    "#import seaborn as sns\n",
    "import numpy as np\n",
    "%matplotlib inline"
   ]
  },
  {
   "cell_type": "code",
   "execution_count": 2,
   "metadata": {
    "executionInfo": {
     "elapsed": 202,
     "status": "ok",
     "timestamp": 1612560716218,
     "user": {
      "displayName": "Tosh Edrisi",
      "photoUrl": "https://lh3.googleusercontent.com/a-/AOh14GjHne6OJWv-zUV9Rl05uopmkw5h1jzzLLOeUPDxVg=s64",
      "userId": "06049327166490884150"
     },
     "user_tz": 360
    },
    "id": "mBJeRX4xEWMv"
   },
   "outputs": [],
   "source": [
    "#Setting the initial image size and batch size\n",
    "size=128\n",
    "batch=32\n",
    "pth = 'cat_dog'"
   ]
  },
  {
   "cell_type": "code",
   "execution_count": 3,
   "metadata": {
    "colab": {
     "base_uri": "https://localhost:8080/"
    },
    "executionInfo": {
     "elapsed": 436,
     "status": "ok",
     "timestamp": 1612560718298,
     "user": {
      "displayName": "Tosh Edrisi",
      "photoUrl": "https://lh3.googleusercontent.com/a-/AOh14GjHne6OJWv-zUV9Rl05uopmkw5h1jzzLLOeUPDxVg=s64",
      "userId": "06049327166490884150"
     },
     "user_tz": 360
    },
    "id": "SJXITAveEWMv",
    "outputId": "9c2dc2a1-09b0-4469-8a0e-24a88a57f933"
   },
   "outputs": [
    {
     "name": "stdout",
     "output_type": "stream",
     "text": [
      "Found 8000 images belonging to 2 classes.\n"
     ]
    }
   ],
   "source": [
    "#Applying augmentations on training set so that we avoid overfitting and feature scaling the images\n",
    "train_datagen = ImageDataGenerator(\n",
    "        rescale=1./255,\n",
    "        shear_range=0.2,\n",
    "        zoom_range=0.2,\n",
    "        horizontal_flip=True)\n",
    "\n",
    "#Point it to the training images\n",
    "train_set = train_datagen.flow_from_directory(\n",
    "        pth+'/training_set',\n",
    "        target_size=(size, size),\n",
    "        batch_size=batch,\n",
    "        class_mode='binary')"
   ]
  },
  {
   "cell_type": "code",
   "execution_count": 4,
   "metadata": {
    "colab": {
     "base_uri": "https://localhost:8080/"
    },
    "executionInfo": {
     "elapsed": 334,
     "status": "ok",
     "timestamp": 1612560719799,
     "user": {
      "displayName": "Tosh Edrisi",
      "photoUrl": "https://lh3.googleusercontent.com/a-/AOh14GjHne6OJWv-zUV9Rl05uopmkw5h1jzzLLOeUPDxVg=s64",
      "userId": "06049327166490884150"
     },
     "user_tz": 360
    },
    "id": "Lx_ZHRAJEWMw",
    "outputId": "9a84dc45-f696-42a8-bba5-f6cbc35c6d2a"
   },
   "outputs": [
    {
     "name": "stdout",
     "output_type": "stream",
     "text": [
      "Found 2000 images belonging to 2 classes.\n"
     ]
    }
   ],
   "source": [
    "#Feature scale the test data\n",
    "test_datagen = ImageDataGenerator(rescale=1./255)\n",
    "\n",
    "#Point it to the test images\n",
    "test_set = test_datagen.flow_from_directory(\n",
    "        pth+'/test_set',\n",
    "        target_size=(size, size),\n",
    "        batch_size=batch,\n",
    "        class_mode='binary')"
   ]
  },
  {
   "cell_type": "code",
   "execution_count": 5,
   "metadata": {
    "colab": {
     "base_uri": "https://localhost:8080/"
    },
    "executionInfo": {
     "elapsed": 236,
     "status": "ok",
     "timestamp": 1612560721099,
     "user": {
      "displayName": "Tosh Edrisi",
      "photoUrl": "https://lh3.googleusercontent.com/a-/AOh14GjHne6OJWv-zUV9Rl05uopmkw5h1jzzLLOeUPDxVg=s64",
      "userId": "06049327166490884150"
     },
     "user_tz": 360
    },
    "id": "CrgneBRIEWMw",
    "outputId": "cad77973-9c4a-49bf-ef37-6a635a21305c"
   },
   "outputs": [
    {
     "data": {
      "text/plain": [
       "{'cats': 0, 'dogs': 1}"
      ]
     },
     "execution_count": 5,
     "metadata": {},
     "output_type": "execute_result"
    }
   ],
   "source": [
    "#An index of 0 is a cat and an index of 1 is a dog\n",
    "train_set.class_indices"
   ]
  },
  {
   "cell_type": "markdown",
   "metadata": {
    "id": "vOQ3e2NCEWMx"
   },
   "source": [
    "# Building the model"
   ]
  },
  {
   "cell_type": "code",
   "execution_count": 6,
   "metadata": {},
   "outputs": [],
   "source": [
    "def Create_CNN(neurons, size):\n",
    "    cnn = tf.keras.models.Sequential()\n",
    "    cnn.add(tf.keras.layers.Conv2D(filters=64, kernel_size=3, activation='relu', input_shape=(size,size,3)))\n",
    "    cnn.add(tf.keras.layers.MaxPool2D(pool_size=2, strides=2))\n",
    "    cnn.add(tf.keras.layers.Conv2D(filters=128, kernel_size=3, activation='relu'))\n",
    "    cnn.add(tf.keras.layers.MaxPool2D(pool_size=2, strides=2))\n",
    "    cnn.add(tf.keras.layers.Flatten())\n",
    "    for i in neurons:\n",
    "        cnn.add(tf.keras.layers.Dense(units=i, activation='relu'))\n",
    "    cnn.add(tf.keras.layers.Dense(units=1, activation='sigmoid'))\n",
    "    return cnn"
   ]
  },
  {
   "cell_type": "markdown",
   "metadata": {
    "id": "Sw4JiDccEWMz"
   },
   "source": [
    "# Training the model"
   ]
  },
  {
   "cell_type": "code",
   "execution_count": 7,
   "metadata": {
    "executionInfo": {
     "elapsed": 298,
     "status": "ok",
     "timestamp": 1612560733368,
     "user": {
      "displayName": "Tosh Edrisi",
      "photoUrl": "https://lh3.googleusercontent.com/a-/AOh14GjHne6OJWv-zUV9Rl05uopmkw5h1jzzLLOeUPDxVg=s64",
      "userId": "06049327166490884150"
     },
     "user_tz": 360
    },
    "id": "_AHavNwBEWM0"
   },
   "outputs": [],
   "source": [
    "#Compiling the CNN\n",
    "#Create the CNN architecture with 1 layer of 50 nodes\n",
    "cnn = Create_CNN([50], size)\n",
    "cnn.compile(optimizer = 'adam', loss = 'binary_crossentropy', metrics = ['accuracy'])"
   ]
  },
  {
   "cell_type": "code",
   "execution_count": 8,
   "metadata": {
    "colab": {
     "base_uri": "https://localhost:8080/",
     "height": 408
    },
    "executionInfo": {
     "elapsed": 474029,
     "status": "error",
     "timestamp": 1612561208554,
     "user": {
      "displayName": "Tosh Edrisi",
      "photoUrl": "https://lh3.googleusercontent.com/a-/AOh14GjHne6OJWv-zUV9Rl05uopmkw5h1jzzLLOeUPDxVg=s64",
      "userId": "06049327166490884150"
     },
     "user_tz": 360
    },
    "id": "fcGzzlMlEWM0",
    "outputId": "f8fe3ba8-f61d-48c0-ba27-161c22d1850f",
    "scrolled": true
   },
   "outputs": [
    {
     "name": "stdout",
     "output_type": "stream",
     "text": [
      "Epoch 1/10\n",
      "250/250 [==============================] - 123s 488ms/step - loss: 0.7577 - accuracy: 0.5520 - val_loss: 0.6605 - val_accuracy: 0.6475\n",
      "Epoch 2/10\n",
      "250/250 [==============================] - 97s 390ms/step - loss: 0.6413 - accuracy: 0.6371 - val_loss: 0.5593 - val_accuracy: 0.7150\n",
      "Epoch 3/10\n",
      "250/250 [==============================] - 97s 389ms/step - loss: 0.5756 - accuracy: 0.7038 - val_loss: 0.5234 - val_accuracy: 0.7340\n",
      "Epoch 4/10\n",
      "250/250 [==============================] - 98s 391ms/step - loss: 0.5447 - accuracy: 0.7197 - val_loss: 0.4976 - val_accuracy: 0.7610\n",
      "Epoch 5/10\n",
      "250/250 [==============================] - 99s 396ms/step - loss: 0.4990 - accuracy: 0.7497 - val_loss: 0.4631 - val_accuracy: 0.7790\n",
      "Epoch 6/10\n",
      "250/250 [==============================] - 98s 391ms/step - loss: 0.4602 - accuracy: 0.7839 - val_loss: 0.4906 - val_accuracy: 0.7695\n",
      "Epoch 7/10\n",
      "250/250 [==============================] - 98s 390ms/step - loss: 0.4365 - accuracy: 0.8003 - val_loss: 0.4510 - val_accuracy: 0.7920\n",
      "Epoch 8/10\n",
      "250/250 [==============================] - 98s 390ms/step - loss: 0.4202 - accuracy: 0.8061 - val_loss: 0.4603 - val_accuracy: 0.7955\n",
      "Epoch 9/10\n",
      "250/250 [==============================] - 97s 389ms/step - loss: 0.3828 - accuracy: 0.8207 - val_loss: 0.4492 - val_accuracy: 0.7965\n",
      "Epoch 10/10\n",
      "250/250 [==============================] - 97s 389ms/step - loss: 0.3931 - accuracy: 0.8190 - val_loss: 0.4523 - val_accuracy: 0.8015\n",
      "Wall time: 16min 43s\n"
     ]
    }
   ],
   "source": [
    "%%time\n",
    "#Training the CNN on the training set and evaluating it vs the test set\n",
    "results = cnn.fit(x=train_set, validation_data=test_set, epochs=10)"
   ]
  },
  {
   "cell_type": "markdown",
   "metadata": {},
   "source": [
    "# Evaluating the model"
   ]
  },
  {
   "cell_type": "code",
   "execution_count": 10,
   "metadata": {
    "id": "J2DFK9J1EWM0"
   },
   "outputs": [
    {
     "data": {
      "text/plain": [
       "<matplotlib.legend.Legend at 0x18c80a340d0>"
      ]
     },
     "execution_count": 10,
     "metadata": {},
     "output_type": "execute_result"
    },
    {
     "data": {
      "image/png": "[encoded data removed]",
      "text/plain": [
       "<Figure size 432x288 with 1 Axes>"
      ]
     },
     "metadata": {
      "needs_background": "light"
     },
     "output_type": "display_data"
    }
   ],
   "source": [
    "#Plotting the accuracies and losses over time\n",
    "for key in results.history:\n",
    "    plt.scatter(x=[x for x in range(1,len(results.history[key])+1)],y=[results.history[key]], label=key)\n",
    "plt.xlabel('Epoch')\n",
    "plt.ylabel('Fraction')\n",
    "plt.legend()"
   ]
  },
  {
   "cell_type": "code",
   "execution_count": 20,
   "metadata": {
    "id": "qUZU1bWtEWM1"
   },
   "outputs": [
    {
     "name": "stdout",
     "output_type": "stream",
     "text": [
      "dog\n"
     ]
    }
   ],
   "source": [
    "#Making a single prediction\n",
    "#The CNN correctly predicts that the image is a dog\n",
    "\n",
    "from keras.preprocessing import image\n",
    "\n",
    "#Load the single image that we want to test\n",
    "test_image = image.load_img(pth+'/single_prediction/cat_or_dog_1.jpg', target_size=(size,size))\n",
    "\n",
    "#Convert the test image into an array\n",
    "test_image = image.img_to_array(test_image)\n",
    "#print ()\n",
    "\n",
    "#Since our predict was based on a batch size of 8, we need to add in empty rows so that it can process it as a 8 batch\n",
    "#but with only one real image\n",
    "test_image = np.expand_dims(test_image, axis=0)\n",
    "\n",
    "#Prediction (1 = dog, 0 = cat)\n",
    "result = cnn.predict(test_image)\n",
    "train_set.class_indices\n",
    "if result[0][0] > 0.5:\n",
    "    prediction = 'dog'\n",
    "else:\n",
    "    prediction = 'cat'\n",
    "print (prediction)"
   ]
  },
  {
   "cell_type": "code",
   "execution_count": null,
   "metadata": {},
   "outputs": [],
   "source": []
  }
 ],
 "metadata": {
  "accelerator": "GPU",
  "colab": {
   "name": "CNN Tensorflow.ipynb",
   "provenance": []
  },
  "kernelspec": {
   "display_name": "Python 3",
   "language": "python",
   "name": "python3"
  },
  "language_info": {
   "codemirror_mode": {
    "name": "ipython",
    "version": 3
   },
   "file_extension": ".py",
   "mimetype": "text/x-python",
   "name": "python",
   "nbconvert_exporter": "python",
   "pygments_lexer": "ipython3",
   "version": "3.8.3"
  }
 },
 "nbformat": 4,
 "nbformat_minor": 1
}
